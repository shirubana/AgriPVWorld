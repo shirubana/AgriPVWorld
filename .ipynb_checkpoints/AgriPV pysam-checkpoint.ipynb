{
 "cells": [
  {
   "cell_type": "code",
   "execution_count": null,
   "id": "0c55bb6a",
   "metadata": {},
   "outputs": [],
   "source": [
    "conda env list"
   ]
  },
  {
   "cell_type": "code",
   "execution_count": null,
   "id": "47a27451",
   "metadata": {},
   "outputs": [],
   "source": [
    "import PySAM.Pvsamv1 as PV\n",
    "import PySAM.Grid as Grid\n",
    "import PySAM.Utilityrate5 as UtilityRate\n",
    "import PySAM.Cashloan as Cashloan\n",
    "import pathlib\n",
    "import json\n",
    "import os\n",
    "\n",
    "sif2 = 'Row2Json'"
   ]
  },
  {
   "cell_type": "code",
   "execution_count": null,
   "id": "408f908d",
   "metadata": {},
   "outputs": [],
   "source": [
    "import PySAM"
   ]
  },
  {
   "cell_type": "code",
   "execution_count": null,
   "id": "f1a59531",
   "metadata": {},
   "outputs": [],
   "source": [
    "file_names = [\"pvsamv1\", \"grid\", \"utilityrate5\", \"cashloan\"]\n",
    "\n",
    "pv2 = PV.new()  # also tried PVWattsSingleOwner\n",
    "grid2 = Grid.from_existing(pv2)\n",
    "ur2 = UtilityRate.from_existing(pv2)\n",
    "so2 = Cashloan.from_existing(grid2, 'FlatPlatePVCommercial')\n",
    "\n"
   ]
  },
  {
   "cell_type": "code",
   "execution_count": null,
   "id": "31f22ae1",
   "metadata": {},
   "outputs": [],
   "source": [
    "for count, module in enumerate([pv2, grid2, ur2, so2]):\n",
    "    filetitle= 'AgriPV_SAM' + '_' + file_names[count] + \".json\"\n",
    "    with open(os.path.join(sif2,filetitle), 'r') as file:\n",
    "        data = json.load(file)\n",
    "        for k, v in data.items():\n",
    "            if k == 'number_inputs':\n",
    "                continue\n",
    "            try:\n",
    "                module.value(k, v)\n",
    "            except AttributeError:\n",
    "                # there is an error is setting the value for ppa_escalation\n",
    "                print(module, k, v)"
   ]
  },
  {
   "cell_type": "code",
   "execution_count": null,
   "id": "96bbcbb2",
   "metadata": {},
   "outputs": [],
   "source": [
    "    pv9.SolarResource.solar_resource_file = weatherfile\n",
    "    \n",
    "    pv2.SolarResource.sky_model = orga.loc[ii]['sky_model']\n",
    "    pv2.SolarResource.irrad_mode = orga.loc[ii]['irrad_mod']\n",
    "    pv4.SolarResource.sky_model = orga.loc[ii]['sky_model']\n",
    "    pv4.SolarResource.irrad_mode = orga.loc[ii]['irrad_mod']\n",
    "    pv8.SolarResource.sky_model = orga.loc[ii]['sky_model']\n",
    "    pv8.SolarResource.irrad_mode = orga.loc[ii]['irrad_mod']\n",
    "    pv9.SolarResource.sky_model = orga.loc[ii]['sky_model']\n",
    "    pv9.SolarResource.irrad_mode = orga.loc[ii]['irrad_mod']\n",
    "    \n",
    "    # So that irrad_mod for POA works shading has to be inactivated.\n",
    "    if orga.loc[ii]['irrad_mod'] >= 3:\n",
    "        pv2.Shading.subarray1_shade_mode = 0\n",
    "        pv4.Shading.subarray1_shade_mode = 0\n",
    "        pv8.Shading.subarray1_shade_mode = 0\n",
    "        pv9.Shading.subarray1_shade_mode = 0\n",
    "    else:\n",
    "        pv2.Shading.subarray1_shade_mode = 1.0\n",
    "        pv4.Shading.subarray1_shade_mode = 1.0\n",
    "        pv8.Shading.subarray1_shade_mode = 1.0\n",
    "        pv9.Shading.subarray1_shade_mode = 1.0\n",
    "    \n",
    "    grid2.SystemOutput.gen = [0] * 8760  # p_out   # let's set all the values to 0\n",
    "    pv2.execute()\n",
    "    grid2.execute()\n",
    "    ur2.execute()\n",
    "    so2.execute()\n",
    "\n",
    "    results = pv2.Outputs.export()\n",
    "    power2 = list(results['subarray1_dc_gross']) # normalizing by the system_capacity\n",
    "    celltemp2 = list(results['subarray1_celltemp'])\n",
    "    rear2 = list(results['subarray1_poa_rear'])\n",
    "    front2 = list(results['subarray1_poa_front'])\n",
    "\n",
    "    \n",
    "        \n",
    "    simtyp = [orga.loc[ii]['Sim']] * 8760\n",
    "\n",
    "    res = pd.DataFrame(list(zip(simtyp, power2, celltemp2, rear2, front2,\n",
    "                               power4, celltemp4, rear4, front4,\n",
    "                               power8, celltemp8, front8,\n",
    "                                power9, celltemp9, rear9, front9, dni, dhi, alb)),\n",
    "           columns = ['Sim', 'Power2' , 'CellTemp2', 'Rear2', 'Front2',\n",
    "                     'Power4' , 'CellTemp4', 'Rear4', 'Front4',\n",
    "                     'Power8' , 'CellTemp8', 'Front8',\n",
    "                     'Power9' , 'CellTemp9', 'Rear9', 'Front9', 'DNI', 'DHI', 'Alb'])\n",
    "\n",
    "    res = res[0:8760]\n",
    "    res['index'] = res.index\n",
    "    res['Power2']= res['Power2']/system_capacity2 # normalizing by the system_capacity\n",
    "    res['Power4']= res['Power4']/system_capacity4 # normalizing by the system_capacity\n",
    "    res['Power8']= res['Power8']/system_capacity8 # normalizing by the system_capacity\n",
    "    res['Power9']= res['Power9']/system_capacity9 # normalizing by the system_capacity\n",
    "    res['datetimes'] = datelist\n",
    "    res['Year'] = years\n",
    "    res['Month'] = months\n",
    "    res['Hour'] = hours\n",
    "\n",
    "    #    res.index = timestamps\n",
    "    res.to_pickle('Results\\Sim_'+orga.loc[ii]['Sim']+'.pkl')\n",
    "    dfAll = pd.concat([dfAll, res], ignore_index=True, axis=0)\n",
    "\n",
    "dfAll.to_pickle('Results_pysam.pkl')\n"
   ]
  }
 ],
 "metadata": {
  "kernelspec": {
   "display_name": "Python 3 (ipykernel)",
   "language": "python",
   "name": "python3"
  },
  "language_info": {
   "codemirror_mode": {
    "name": "ipython",
    "version": 3
   },
   "file_extension": ".py",
   "mimetype": "text/x-python",
   "name": "python",
   "nbconvert_exporter": "python",
   "pygments_lexer": "ipython3",
   "version": "3.9.13"
  }
 },
 "nbformat": 4,
 "nbformat_minor": 5
}
