{
 "cells": [
  {
   "cell_type": "markdown",
   "metadata": {},
   "source": [
    "#  NREL-rex for NSRDB from Eagle and PYSAM simulation"
   ]
  },
  {
   "cell_type": "markdown",
   "metadata": {},
   "source": [
    "There is an example of calling NSRDB and pysam on https://github.com/NREL/pysam/blob/master/Examples/FetchResourceFileExample.py\n",
    "\n",
    "The difference is that example downloads the data into a .csv and saves the path file into the `solar_resource_file`.\n",
    "When having access to Eagle directly, all the data is loaded dynamically from the `.h5` file so saving .csvs slows process, so I want to pass the weather data directly.\n"
   ]
  },
  {
   "cell_type": "code",
   "execution_count": 1,
   "metadata": {
    "ExecuteTime": {
     "end_time": "2019-06-13T20:12:46.350659Z",
     "start_time": "2019-06-13T20:11:46.936643Z"
    }
   },
   "outputs": [],
   "source": [
    "%matplotlib inline\n",
    "import matplotlib.pyplot as plt\n",
    "import numpy as np\n",
    "import pandas as pd\n",
    "import sys\n",
    "from rex import NSRDBX\n",
    "import matplotlib.pyplot as plt"
   ]
  },
  {
   "cell_type": "markdown",
   "metadata": {},
   "source": [
    "# NSRDBX"
   ]
  },
  {
   "cell_type": "code",
   "execution_count": 2,
   "metadata": {},
   "outputs": [],
   "source": [
    "#TMY data located on eagle about 900GB\n",
    "nsrdb_file = '/datasets/NSRDB/current/nsrdb_tmy-2021.h5'"
   ]
  },
  {
   "cell_type": "code",
   "execution_count": 3,
   "metadata": {},
   "outputs": [],
   "source": [
    "#Input\n",
    "region = 'Boulder'\n",
    "region_col = 'county'\n",
    "parameters = ['air_temperature', 'wind_speed', 'dhi', 'ghi', 'dni', 'surface_albedo']"
   ]
  },
  {
   "cell_type": "code",
   "execution_count": 4,
   "metadata": {},
   "outputs": [],
   "source": [
    "#Load time and geographical infos\n",
    "with NSRDBX(nsrdb_file, hsds=False) as f:\n",
    "    # Get time index\n",
    "    times = f.time_index\n",
    "    # Get geographical index for region of interest\n",
    "    gids = f.region_gids(region=region, region_col=region_col)   \n",
    "    # Get meta data\n",
    "    meta = f.meta[f.meta.index.isin(gids)]"
   ]
  },
  {
   "cell_type": "code",
   "execution_count": 5,
   "metadata": {},
   "outputs": [],
   "source": [
    "#Load weather data\n",
    "data = []\n",
    "with NSRDBX(nsrdb_file, hsds=False) as f:\n",
    "        for p in parameters:\n",
    "            data.append(f.get_gid_df(p, gids)) #.values"
   ]
  },
  {
   "cell_type": "code",
   "execution_count": 6,
   "metadata": {},
   "outputs": [],
   "source": [
    "#Create multi-level dataframe\n",
    "columns = pd.MultiIndex.from_product([parameters, gids], names=[\"par\", \"gid\"])\n",
    "df_weather = pd.concat(data, axis=1)\n",
    "df_weather.columns = columns\n",
    "df_weather = df_weather.swaplevel(axis=1).sort_index(axis=1)"
   ]
  },
  {
   "cell_type": "code",
   "execution_count": 7,
   "metadata": {},
   "outputs": [],
   "source": [
    "import pytz"
   ]
  },
  {
   "cell_type": "code",
   "execution_count": 8,
   "metadata": {},
   "outputs": [],
   "source": [
    "#Create results dataframe\n",
    "df_res = meta.loc[:, ['latitude', 'longitude']]\n",
    "df_res['distance'] = np.nan\n",
    "\n",
    "#loop through dataframe and perform computation \n",
    "#at the moment just saving the last location in the county of Boulder for use with pysam\n",
    "for gid, row in meta.iterrows():\n",
    "    meta_dict = row.to_dict()\n",
    "    df_weather_gid = df_weather.loc[:, gid]\n",
    "    tz_convert_val = meta_dict['timezone']\n",
    "    df_weather_gid = df_weather_gid.tz_convert(pytz.FixedOffset(tz_convert_val*60))\n",
    "    #df_weather_gid = df_weather_gid.tz_convert('Etc/GMT+7') # Localizing Data\n",
    "    # Maping to 2021 because the localizing sets the first values to the year before december...\n",
    "    df_weather_gid.index =  df_weather_gid.index.map(lambda t: t.replace(year=2021)) \n",
    "    # Then rearranging so they are at the end of hte dataframe, becuase I think SAM expect a 8760 starting at Jan 1 0 hours.\n",
    "    df_weather_gid = df_weather_gid.sort_index()"
   ]
  },
  {
   "cell_type": "code",
   "execution_count": 9,
   "metadata": {},
   "outputs": [
    {
     "name": "stdout",
     "output_type": "stream",
     "text": [
      "MetaData:  {'latitude': 39.970001220703125, 'longitude': -105.05999755859375, 'elevation': 1614, 'timezone': -7, 'country': 'United States', 'state': 'Colorado', 'county': 'Boulder'}\n",
      "\n",
      "Weather DF keys Index(['air_temperature', 'dhi', 'dni', 'ghi', 'surface_albedo', 'wind_speed'], dtype='object', name='par')\n",
      "\n",
      "DF length 8760\n"
     ]
    },
    {
     "data": {
      "text/html": [
       "<div>\n",
       "<style scoped>\n",
       "    .dataframe tbody tr th:only-of-type {\n",
       "        vertical-align: middle;\n",
       "    }\n",
       "\n",
       "    .dataframe tbody tr th {\n",
       "        vertical-align: top;\n",
       "    }\n",
       "\n",
       "    .dataframe thead th {\n",
       "        text-align: right;\n",
       "    }\n",
       "</style>\n",
       "<table border=\"1\" class=\"dataframe\">\n",
       "  <thead>\n",
       "    <tr style=\"text-align: right;\">\n",
       "      <th>par</th>\n",
       "      <th>air_temperature</th>\n",
       "      <th>dhi</th>\n",
       "      <th>dni</th>\n",
       "      <th>ghi</th>\n",
       "      <th>surface_albedo</th>\n",
       "      <th>wind_speed</th>\n",
       "    </tr>\n",
       "    <tr>\n",
       "      <th>time_index</th>\n",
       "      <th></th>\n",
       "      <th></th>\n",
       "      <th></th>\n",
       "      <th></th>\n",
       "      <th></th>\n",
       "      <th></th>\n",
       "    </tr>\n",
       "  </thead>\n",
       "  <tbody>\n",
       "    <tr>\n",
       "      <th>2021-01-01 00:30:00-07:00</th>\n",
       "      <td>-13.8</td>\n",
       "      <td>0</td>\n",
       "      <td>0</td>\n",
       "      <td>0</td>\n",
       "      <td>0.8</td>\n",
       "      <td>5.2</td>\n",
       "    </tr>\n",
       "    <tr>\n",
       "      <th>2021-01-01 01:30:00-07:00</th>\n",
       "      <td>-13.7</td>\n",
       "      <td>0</td>\n",
       "      <td>0</td>\n",
       "      <td>0</td>\n",
       "      <td>0.8</td>\n",
       "      <td>5.3</td>\n",
       "    </tr>\n",
       "    <tr>\n",
       "      <th>2021-01-01 02:30:00-07:00</th>\n",
       "      <td>-13.6</td>\n",
       "      <td>0</td>\n",
       "      <td>0</td>\n",
       "      <td>0</td>\n",
       "      <td>0.8</td>\n",
       "      <td>5.3</td>\n",
       "    </tr>\n",
       "    <tr>\n",
       "      <th>2021-01-01 03:30:00-07:00</th>\n",
       "      <td>-13.5</td>\n",
       "      <td>0</td>\n",
       "      <td>0</td>\n",
       "      <td>0</td>\n",
       "      <td>0.8</td>\n",
       "      <td>5.2</td>\n",
       "    </tr>\n",
       "    <tr>\n",
       "      <th>2021-01-01 04:30:00-07:00</th>\n",
       "      <td>-13.5</td>\n",
       "      <td>0</td>\n",
       "      <td>0</td>\n",
       "      <td>0</td>\n",
       "      <td>0.8</td>\n",
       "      <td>5.1</td>\n",
       "    </tr>\n",
       "    <tr>\n",
       "      <th>2021-01-01 05:30:00-07:00</th>\n",
       "      <td>-13.5</td>\n",
       "      <td>0</td>\n",
       "      <td>0</td>\n",
       "      <td>0</td>\n",
       "      <td>0.8</td>\n",
       "      <td>4.9</td>\n",
       "    </tr>\n",
       "    <tr>\n",
       "      <th>2021-01-01 06:30:00-07:00</th>\n",
       "      <td>-13.5</td>\n",
       "      <td>0</td>\n",
       "      <td>0</td>\n",
       "      <td>0</td>\n",
       "      <td>0.8</td>\n",
       "      <td>4.8</td>\n",
       "    </tr>\n",
       "    <tr>\n",
       "      <th>2021-01-01 07:30:00-07:00</th>\n",
       "      <td>-12.6</td>\n",
       "      <td>0</td>\n",
       "      <td>0</td>\n",
       "      <td>0</td>\n",
       "      <td>0.8</td>\n",
       "      <td>4.9</td>\n",
       "    </tr>\n",
       "    <tr>\n",
       "      <th>2021-01-01 08:30:00-07:00</th>\n",
       "      <td>-10.7</td>\n",
       "      <td>16</td>\n",
       "      <td>0</td>\n",
       "      <td>16</td>\n",
       "      <td>0.8</td>\n",
       "      <td>5.3</td>\n",
       "    </tr>\n",
       "    <tr>\n",
       "      <th>2021-01-01 09:30:00-07:00</th>\n",
       "      <td>-9.0</td>\n",
       "      <td>38</td>\n",
       "      <td>0</td>\n",
       "      <td>38</td>\n",
       "      <td>0.8</td>\n",
       "      <td>5.5</td>\n",
       "    </tr>\n",
       "    <tr>\n",
       "      <th>2021-01-01 10:30:00-07:00</th>\n",
       "      <td>-7.8</td>\n",
       "      <td>105</td>\n",
       "      <td>0</td>\n",
       "      <td>105</td>\n",
       "      <td>0.8</td>\n",
       "      <td>5.5</td>\n",
       "    </tr>\n",
       "    <tr>\n",
       "      <th>2021-01-01 11:30:00-07:00</th>\n",
       "      <td>-7.3</td>\n",
       "      <td>133</td>\n",
       "      <td>0</td>\n",
       "      <td>133</td>\n",
       "      <td>0.8</td>\n",
       "      <td>5.4</td>\n",
       "    </tr>\n",
       "    <tr>\n",
       "      <th>2021-01-01 12:30:00-07:00</th>\n",
       "      <td>-7.0</td>\n",
       "      <td>156</td>\n",
       "      <td>10</td>\n",
       "      <td>160</td>\n",
       "      <td>0.8</td>\n",
       "      <td>5.3</td>\n",
       "    </tr>\n",
       "    <tr>\n",
       "      <th>2021-01-01 13:30:00-07:00</th>\n",
       "      <td>-7.0</td>\n",
       "      <td>135</td>\n",
       "      <td>513</td>\n",
       "      <td>343</td>\n",
       "      <td>0.8</td>\n",
       "      <td>5.1</td>\n",
       "    </tr>\n",
       "    <tr>\n",
       "      <th>2021-01-01 14:30:00-07:00</th>\n",
       "      <td>-7.3</td>\n",
       "      <td>52</td>\n",
       "      <td>922</td>\n",
       "      <td>345</td>\n",
       "      <td>0.8</td>\n",
       "      <td>4.8</td>\n",
       "    </tr>\n",
       "    <tr>\n",
       "      <th>2021-01-01 15:30:00-07:00</th>\n",
       "      <td>-8.2</td>\n",
       "      <td>38</td>\n",
       "      <td>790</td>\n",
       "      <td>188</td>\n",
       "      <td>0.8</td>\n",
       "      <td>4.3</td>\n",
       "    </tr>\n",
       "    <tr>\n",
       "      <th>2021-01-01 16:30:00-07:00</th>\n",
       "      <td>-8.7</td>\n",
       "      <td>14</td>\n",
       "      <td>408</td>\n",
       "      <td>28</td>\n",
       "      <td>0.8</td>\n",
       "      <td>4.0</td>\n",
       "    </tr>\n",
       "    <tr>\n",
       "      <th>2021-01-01 17:30:00-07:00</th>\n",
       "      <td>-10.0</td>\n",
       "      <td>0</td>\n",
       "      <td>0</td>\n",
       "      <td>0</td>\n",
       "      <td>0.8</td>\n",
       "      <td>4.0</td>\n",
       "    </tr>\n",
       "    <tr>\n",
       "      <th>2021-01-01 18:30:00-07:00</th>\n",
       "      <td>-10.5</td>\n",
       "      <td>0</td>\n",
       "      <td>0</td>\n",
       "      <td>0</td>\n",
       "      <td>0.8</td>\n",
       "      <td>4.3</td>\n",
       "    </tr>\n",
       "    <tr>\n",
       "      <th>2021-01-01 19:30:00-07:00</th>\n",
       "      <td>-11.0</td>\n",
       "      <td>0</td>\n",
       "      <td>0</td>\n",
       "      <td>0</td>\n",
       "      <td>0.8</td>\n",
       "      <td>4.7</td>\n",
       "    </tr>\n",
       "    <tr>\n",
       "      <th>2021-01-01 20:30:00-07:00</th>\n",
       "      <td>-11.4</td>\n",
       "      <td>0</td>\n",
       "      <td>0</td>\n",
       "      <td>0</td>\n",
       "      <td>0.8</td>\n",
       "      <td>5.3</td>\n",
       "    </tr>\n",
       "    <tr>\n",
       "      <th>2021-01-01 21:30:00-07:00</th>\n",
       "      <td>-11.8</td>\n",
       "      <td>0</td>\n",
       "      <td>0</td>\n",
       "      <td>0</td>\n",
       "      <td>0.8</td>\n",
       "      <td>5.9</td>\n",
       "    </tr>\n",
       "    <tr>\n",
       "      <th>2021-01-01 22:30:00-07:00</th>\n",
       "      <td>-11.8</td>\n",
       "      <td>0</td>\n",
       "      <td>0</td>\n",
       "      <td>0</td>\n",
       "      <td>0.8</td>\n",
       "      <td>6.5</td>\n",
       "    </tr>\n",
       "    <tr>\n",
       "      <th>2021-01-01 23:30:00-07:00</th>\n",
       "      <td>-11.4</td>\n",
       "      <td>0</td>\n",
       "      <td>0</td>\n",
       "      <td>0</td>\n",
       "      <td>0.8</td>\n",
       "      <td>6.9</td>\n",
       "    </tr>\n",
       "  </tbody>\n",
       "</table>\n",
       "</div>"
      ],
      "text/plain": [
       "par                        air_temperature  dhi  dni  ghi  surface_albedo  \\\n",
       "time_index                                                                  \n",
       "2021-01-01 00:30:00-07:00            -13.8    0    0    0             0.8   \n",
       "2021-01-01 01:30:00-07:00            -13.7    0    0    0             0.8   \n",
       "2021-01-01 02:30:00-07:00            -13.6    0    0    0             0.8   \n",
       "2021-01-01 03:30:00-07:00            -13.5    0    0    0             0.8   \n",
       "2021-01-01 04:30:00-07:00            -13.5    0    0    0             0.8   \n",
       "2021-01-01 05:30:00-07:00            -13.5    0    0    0             0.8   \n",
       "2021-01-01 06:30:00-07:00            -13.5    0    0    0             0.8   \n",
       "2021-01-01 07:30:00-07:00            -12.6    0    0    0             0.8   \n",
       "2021-01-01 08:30:00-07:00            -10.7   16    0   16             0.8   \n",
       "2021-01-01 09:30:00-07:00             -9.0   38    0   38             0.8   \n",
       "2021-01-01 10:30:00-07:00             -7.8  105    0  105             0.8   \n",
       "2021-01-01 11:30:00-07:00             -7.3  133    0  133             0.8   \n",
       "2021-01-01 12:30:00-07:00             -7.0  156   10  160             0.8   \n",
       "2021-01-01 13:30:00-07:00             -7.0  135  513  343             0.8   \n",
       "2021-01-01 14:30:00-07:00             -7.3   52  922  345             0.8   \n",
       "2021-01-01 15:30:00-07:00             -8.2   38  790  188             0.8   \n",
       "2021-01-01 16:30:00-07:00             -8.7   14  408   28             0.8   \n",
       "2021-01-01 17:30:00-07:00            -10.0    0    0    0             0.8   \n",
       "2021-01-01 18:30:00-07:00            -10.5    0    0    0             0.8   \n",
       "2021-01-01 19:30:00-07:00            -11.0    0    0    0             0.8   \n",
       "2021-01-01 20:30:00-07:00            -11.4    0    0    0             0.8   \n",
       "2021-01-01 21:30:00-07:00            -11.8    0    0    0             0.8   \n",
       "2021-01-01 22:30:00-07:00            -11.8    0    0    0             0.8   \n",
       "2021-01-01 23:30:00-07:00            -11.4    0    0    0             0.8   \n",
       "\n",
       "par                        wind_speed  \n",
       "time_index                             \n",
       "2021-01-01 00:30:00-07:00         5.2  \n",
       "2021-01-01 01:30:00-07:00         5.3  \n",
       "2021-01-01 02:30:00-07:00         5.3  \n",
       "2021-01-01 03:30:00-07:00         5.2  \n",
       "2021-01-01 04:30:00-07:00         5.1  \n",
       "2021-01-01 05:30:00-07:00         4.9  \n",
       "2021-01-01 06:30:00-07:00         4.8  \n",
       "2021-01-01 07:30:00-07:00         4.9  \n",
       "2021-01-01 08:30:00-07:00         5.3  \n",
       "2021-01-01 09:30:00-07:00         5.5  \n",
       "2021-01-01 10:30:00-07:00         5.5  \n",
       "2021-01-01 11:30:00-07:00         5.4  \n",
       "2021-01-01 12:30:00-07:00         5.3  \n",
       "2021-01-01 13:30:00-07:00         5.1  \n",
       "2021-01-01 14:30:00-07:00         4.8  \n",
       "2021-01-01 15:30:00-07:00         4.3  \n",
       "2021-01-01 16:30:00-07:00         4.0  \n",
       "2021-01-01 17:30:00-07:00         4.0  \n",
       "2021-01-01 18:30:00-07:00         4.3  \n",
       "2021-01-01 19:30:00-07:00         4.7  \n",
       "2021-01-01 20:30:00-07:00         5.3  \n",
       "2021-01-01 21:30:00-07:00         5.9  \n",
       "2021-01-01 22:30:00-07:00         6.5  \n",
       "2021-01-01 23:30:00-07:00         6.9  "
      ]
     },
     "execution_count": 9,
     "metadata": {},
     "output_type": "execute_result"
    }
   ],
   "source": [
    "# Sanity checks\n",
    "print(\"MetaData: \", meta_dict)\n",
    "print(\"\\nWeather DF keys\", df_weather_gid.keys())\n",
    "print(\"\\nDF length\", len(df_weather_gid))\n",
    "df_weather_gid.head(24)"
   ]
  },
  {
   "cell_type": "code",
   "execution_count": 10,
   "metadata": {},
   "outputs": [
    {
     "data": {
      "text/html": [
       "<div>\n",
       "<style scoped>\n",
       "    .dataframe tbody tr th:only-of-type {\n",
       "        vertical-align: middle;\n",
       "    }\n",
       "\n",
       "    .dataframe tbody tr th {\n",
       "        vertical-align: top;\n",
       "    }\n",
       "\n",
       "    .dataframe thead th {\n",
       "        text-align: right;\n",
       "    }\n",
       "</style>\n",
       "<table border=\"1\" class=\"dataframe\">\n",
       "  <thead>\n",
       "    <tr style=\"text-align: right;\">\n",
       "      <th>par</th>\n",
       "      <th>air_temperature</th>\n",
       "      <th>dhi</th>\n",
       "      <th>dni</th>\n",
       "      <th>ghi</th>\n",
       "      <th>surface_albedo</th>\n",
       "      <th>wind_speed</th>\n",
       "    </tr>\n",
       "    <tr>\n",
       "      <th>time_index</th>\n",
       "      <th></th>\n",
       "      <th></th>\n",
       "      <th></th>\n",
       "      <th></th>\n",
       "      <th></th>\n",
       "      <th></th>\n",
       "    </tr>\n",
       "  </thead>\n",
       "  <tbody>\n",
       "    <tr>\n",
       "      <th>2021-12-31 00:30:00-07:00</th>\n",
       "      <td>-5.1</td>\n",
       "      <td>0</td>\n",
       "      <td>0</td>\n",
       "      <td>0</td>\n",
       "      <td>0.2</td>\n",
       "      <td>1.6</td>\n",
       "    </tr>\n",
       "    <tr>\n",
       "      <th>2021-12-31 01:30:00-07:00</th>\n",
       "      <td>-5.1</td>\n",
       "      <td>0</td>\n",
       "      <td>0</td>\n",
       "      <td>0</td>\n",
       "      <td>0.2</td>\n",
       "      <td>1.2</td>\n",
       "    </tr>\n",
       "    <tr>\n",
       "      <th>2021-12-31 02:30:00-07:00</th>\n",
       "      <td>-5.1</td>\n",
       "      <td>0</td>\n",
       "      <td>0</td>\n",
       "      <td>0</td>\n",
       "      <td>0.2</td>\n",
       "      <td>0.5</td>\n",
       "    </tr>\n",
       "    <tr>\n",
       "      <th>2021-12-31 03:30:00-07:00</th>\n",
       "      <td>-5.4</td>\n",
       "      <td>0</td>\n",
       "      <td>0</td>\n",
       "      <td>0</td>\n",
       "      <td>0.2</td>\n",
       "      <td>0.4</td>\n",
       "    </tr>\n",
       "    <tr>\n",
       "      <th>2021-12-31 04:30:00-07:00</th>\n",
       "      <td>-5.9</td>\n",
       "      <td>0</td>\n",
       "      <td>0</td>\n",
       "      <td>0</td>\n",
       "      <td>0.2</td>\n",
       "      <td>0.7</td>\n",
       "    </tr>\n",
       "    <tr>\n",
       "      <th>2021-12-31 05:30:00-07:00</th>\n",
       "      <td>-6.2</td>\n",
       "      <td>0</td>\n",
       "      <td>0</td>\n",
       "      <td>0</td>\n",
       "      <td>0.2</td>\n",
       "      <td>1.2</td>\n",
       "    </tr>\n",
       "    <tr>\n",
       "      <th>2021-12-31 06:30:00-07:00</th>\n",
       "      <td>-6.0</td>\n",
       "      <td>0</td>\n",
       "      <td>0</td>\n",
       "      <td>0</td>\n",
       "      <td>0.2</td>\n",
       "      <td>1.9</td>\n",
       "    </tr>\n",
       "    <tr>\n",
       "      <th>2021-12-31 07:30:00-07:00</th>\n",
       "      <td>-4.6</td>\n",
       "      <td>0</td>\n",
       "      <td>0</td>\n",
       "      <td>0</td>\n",
       "      <td>0.2</td>\n",
       "      <td>2.5</td>\n",
       "    </tr>\n",
       "    <tr>\n",
       "      <th>2021-12-31 08:30:00-07:00</th>\n",
       "      <td>-1.5</td>\n",
       "      <td>32</td>\n",
       "      <td>698</td>\n",
       "      <td>151</td>\n",
       "      <td>0.2</td>\n",
       "      <td>2.6</td>\n",
       "    </tr>\n",
       "    <tr>\n",
       "      <th>2021-12-31 09:30:00-07:00</th>\n",
       "      <td>2.1</td>\n",
       "      <td>104</td>\n",
       "      <td>409</td>\n",
       "      <td>228</td>\n",
       "      <td>0.2</td>\n",
       "      <td>2.2</td>\n",
       "    </tr>\n",
       "    <tr>\n",
       "      <th>2021-12-31 10:30:00-07:00</th>\n",
       "      <td>5.6</td>\n",
       "      <td>129</td>\n",
       "      <td>522</td>\n",
       "      <td>336</td>\n",
       "      <td>0.2</td>\n",
       "      <td>2.2</td>\n",
       "    </tr>\n",
       "    <tr>\n",
       "      <th>2021-12-31 11:30:00-07:00</th>\n",
       "      <td>8.2</td>\n",
       "      <td>160</td>\n",
       "      <td>489</td>\n",
       "      <td>378</td>\n",
       "      <td>0.2</td>\n",
       "      <td>2.5</td>\n",
       "    </tr>\n",
       "    <tr>\n",
       "      <th>2021-12-31 12:30:00-07:00</th>\n",
       "      <td>9.1</td>\n",
       "      <td>168</td>\n",
       "      <td>453</td>\n",
       "      <td>372</td>\n",
       "      <td>0.2</td>\n",
       "      <td>2.6</td>\n",
       "    </tr>\n",
       "    <tr>\n",
       "      <th>2021-12-31 13:30:00-07:00</th>\n",
       "      <td>8.5</td>\n",
       "      <td>158</td>\n",
       "      <td>387</td>\n",
       "      <td>315</td>\n",
       "      <td>0.2</td>\n",
       "      <td>2.5</td>\n",
       "    </tr>\n",
       "    <tr>\n",
       "      <th>2021-12-31 14:30:00-07:00</th>\n",
       "      <td>6.7</td>\n",
       "      <td>86</td>\n",
       "      <td>569</td>\n",
       "      <td>266</td>\n",
       "      <td>0.2</td>\n",
       "      <td>2.4</td>\n",
       "    </tr>\n",
       "    <tr>\n",
       "      <th>2021-12-31 15:30:00-07:00</th>\n",
       "      <td>4.3</td>\n",
       "      <td>62</td>\n",
       "      <td>341</td>\n",
       "      <td>127</td>\n",
       "      <td>0.2</td>\n",
       "      <td>2.4</td>\n",
       "    </tr>\n",
       "    <tr>\n",
       "      <th>2021-12-31 16:30:00-07:00</th>\n",
       "      <td>3.1</td>\n",
       "      <td>16</td>\n",
       "      <td>0</td>\n",
       "      <td>16</td>\n",
       "      <td>0.2</td>\n",
       "      <td>2.6</td>\n",
       "    </tr>\n",
       "    <tr>\n",
       "      <th>2021-12-31 17:30:00-07:00</th>\n",
       "      <td>-13.8</td>\n",
       "      <td>0</td>\n",
       "      <td>0</td>\n",
       "      <td>0</td>\n",
       "      <td>0.8</td>\n",
       "      <td>3.9</td>\n",
       "    </tr>\n",
       "    <tr>\n",
       "      <th>2021-12-31 18:30:00-07:00</th>\n",
       "      <td>-14.0</td>\n",
       "      <td>0</td>\n",
       "      <td>0</td>\n",
       "      <td>0</td>\n",
       "      <td>0.8</td>\n",
       "      <td>4.2</td>\n",
       "    </tr>\n",
       "    <tr>\n",
       "      <th>2021-12-31 19:30:00-07:00</th>\n",
       "      <td>-14.0</td>\n",
       "      <td>0</td>\n",
       "      <td>0</td>\n",
       "      <td>0</td>\n",
       "      <td>0.8</td>\n",
       "      <td>4.6</td>\n",
       "    </tr>\n",
       "    <tr>\n",
       "      <th>2021-12-31 20:30:00-07:00</th>\n",
       "      <td>-13.8</td>\n",
       "      <td>0</td>\n",
       "      <td>0</td>\n",
       "      <td>0</td>\n",
       "      <td>0.8</td>\n",
       "      <td>4.9</td>\n",
       "    </tr>\n",
       "    <tr>\n",
       "      <th>2021-12-31 21:30:00-07:00</th>\n",
       "      <td>-13.6</td>\n",
       "      <td>0</td>\n",
       "      <td>0</td>\n",
       "      <td>0</td>\n",
       "      <td>0.8</td>\n",
       "      <td>4.8</td>\n",
       "    </tr>\n",
       "    <tr>\n",
       "      <th>2021-12-31 22:30:00-07:00</th>\n",
       "      <td>-13.6</td>\n",
       "      <td>0</td>\n",
       "      <td>0</td>\n",
       "      <td>0</td>\n",
       "      <td>0.8</td>\n",
       "      <td>4.8</td>\n",
       "    </tr>\n",
       "    <tr>\n",
       "      <th>2021-12-31 23:30:00-07:00</th>\n",
       "      <td>-13.7</td>\n",
       "      <td>0</td>\n",
       "      <td>0</td>\n",
       "      <td>0</td>\n",
       "      <td>0.8</td>\n",
       "      <td>5.0</td>\n",
       "    </tr>\n",
       "  </tbody>\n",
       "</table>\n",
       "</div>"
      ],
      "text/plain": [
       "par                        air_temperature  dhi  dni  ghi  surface_albedo  \\\n",
       "time_index                                                                  \n",
       "2021-12-31 00:30:00-07:00             -5.1    0    0    0             0.2   \n",
       "2021-12-31 01:30:00-07:00             -5.1    0    0    0             0.2   \n",
       "2021-12-31 02:30:00-07:00             -5.1    0    0    0             0.2   \n",
       "2021-12-31 03:30:00-07:00             -5.4    0    0    0             0.2   \n",
       "2021-12-31 04:30:00-07:00             -5.9    0    0    0             0.2   \n",
       "2021-12-31 05:30:00-07:00             -6.2    0    0    0             0.2   \n",
       "2021-12-31 06:30:00-07:00             -6.0    0    0    0             0.2   \n",
       "2021-12-31 07:30:00-07:00             -4.6    0    0    0             0.2   \n",
       "2021-12-31 08:30:00-07:00             -1.5   32  698  151             0.2   \n",
       "2021-12-31 09:30:00-07:00              2.1  104  409  228             0.2   \n",
       "2021-12-31 10:30:00-07:00              5.6  129  522  336             0.2   \n",
       "2021-12-31 11:30:00-07:00              8.2  160  489  378             0.2   \n",
       "2021-12-31 12:30:00-07:00              9.1  168  453  372             0.2   \n",
       "2021-12-31 13:30:00-07:00              8.5  158  387  315             0.2   \n",
       "2021-12-31 14:30:00-07:00              6.7   86  569  266             0.2   \n",
       "2021-12-31 15:30:00-07:00              4.3   62  341  127             0.2   \n",
       "2021-12-31 16:30:00-07:00              3.1   16    0   16             0.2   \n",
       "2021-12-31 17:30:00-07:00            -13.8    0    0    0             0.8   \n",
       "2021-12-31 18:30:00-07:00            -14.0    0    0    0             0.8   \n",
       "2021-12-31 19:30:00-07:00            -14.0    0    0    0             0.8   \n",
       "2021-12-31 20:30:00-07:00            -13.8    0    0    0             0.8   \n",
       "2021-12-31 21:30:00-07:00            -13.6    0    0    0             0.8   \n",
       "2021-12-31 22:30:00-07:00            -13.6    0    0    0             0.8   \n",
       "2021-12-31 23:30:00-07:00            -13.7    0    0    0             0.8   \n",
       "\n",
       "par                        wind_speed  \n",
       "time_index                             \n",
       "2021-12-31 00:30:00-07:00         1.6  \n",
       "2021-12-31 01:30:00-07:00         1.2  \n",
       "2021-12-31 02:30:00-07:00         0.5  \n",
       "2021-12-31 03:30:00-07:00         0.4  \n",
       "2021-12-31 04:30:00-07:00         0.7  \n",
       "2021-12-31 05:30:00-07:00         1.2  \n",
       "2021-12-31 06:30:00-07:00         1.9  \n",
       "2021-12-31 07:30:00-07:00         2.5  \n",
       "2021-12-31 08:30:00-07:00         2.6  \n",
       "2021-12-31 09:30:00-07:00         2.2  \n",
       "2021-12-31 10:30:00-07:00         2.2  \n",
       "2021-12-31 11:30:00-07:00         2.5  \n",
       "2021-12-31 12:30:00-07:00         2.6  \n",
       "2021-12-31 13:30:00-07:00         2.5  \n",
       "2021-12-31 14:30:00-07:00         2.4  \n",
       "2021-12-31 15:30:00-07:00         2.4  \n",
       "2021-12-31 16:30:00-07:00         2.6  \n",
       "2021-12-31 17:30:00-07:00         3.9  \n",
       "2021-12-31 18:30:00-07:00         4.2  \n",
       "2021-12-31 19:30:00-07:00         4.6  \n",
       "2021-12-31 20:30:00-07:00         4.9  \n",
       "2021-12-31 21:30:00-07:00         4.8  \n",
       "2021-12-31 22:30:00-07:00         4.8  \n",
       "2021-12-31 23:30:00-07:00         5.0  "
      ]
     },
     "execution_count": 10,
     "metadata": {},
     "output_type": "execute_result"
    }
   ],
   "source": [
    "df_weather_gid.tail(24)"
   ]
  },
  {
   "cell_type": "markdown",
   "metadata": {},
   "source": [
    "# bifacialVF"
   ]
  },
  {
   "cell_type": "code",
   "execution_count": 11,
   "metadata": {},
   "outputs": [],
   "source": [
    "import bifacialvf"
   ]
  },
  {
   "cell_type": "code",
   "execution_count": 12,
   "metadata": {
    "scrolled": true
   },
   "outputs": [
    {
     "data": {
      "text/plain": [
       "'0.1.8.1'"
      ]
     },
     "execution_count": 12,
     "metadata": {},
     "output_type": "execute_result"
    }
   ],
   "source": [
    "bifacialvf.__version__"
   ]
  },
  {
   "cell_type": "code",
   "execution_count": 62,
   "metadata": {},
   "outputs": [
    {
     "data": {
      "text/plain": [
       "0.75"
      ]
     },
     "execution_count": 62,
     "metadata": {},
     "output_type": "execute_result"
    }
   ],
   "source": [
    "clearance_height"
   ]
  },
  {
   "cell_type": "code",
   "execution_count": 119,
   "metadata": {},
   "outputs": [],
   "source": [
    "# Variables\n",
    "tilt = 30                   # PV tilt (deg)\n",
    "sazm = 180                  # PV Azimuth(deg) or tracker axis direction\n",
    "cw = 2.0   \n",
    "albedo = None               # Calculated in previous section from SRRL data. Value is 0.28 up to 11/18/19o\n",
    "clearance_height=1.5/cw            #1.5m / 2m collector width\n",
    "gcr = 0.35\n",
    "pitch = cw/0.4/cw              # 1 / 0.35 where 0.35 is gcr --- row to row spacing in normalized panel lengths. \n",
    "rowType = \"interior\"        # RowType(first interior last single)\n",
    "transFactor = 0             # TransmissionFactor(open area fraction)\n",
    "sensorsy = 12                # sensorsy(# hor rows in panel)   <--> THIS ASSUMES LANDSCAPE ORIENTATION \n",
    "PVfrontSurface = \"glass\"    # PVfrontSurface(glass or ARglass)\n",
    "PVbackSurface = \"glass\"     # PVbackSurface(glass or ARglass)\n",
    "\n",
    "# Calculate PV Output Through Various Methods    \n",
    "calculateBilInterpol = False   # Only works with landscape at the moment.\n",
    "calculatePVMismatch = False\n",
    "portraitorlandscape='portrait'   # portrait or landscape\n",
    "cellsnum = 72\n",
    "bififactor = 1.0\n",
    "\n",
    "# Tracking instructions\n",
    "tracking=False\n",
    "backtrack=True\n",
    "limit_angle = 50\n"
   ]
  },
  {
   "cell_type": "code",
   "execution_count": 120,
   "metadata": {},
   "outputs": [
    {
     "data": {
      "text/plain": [
       "2.5"
      ]
     },
     "execution_count": 120,
     "metadata": {},
     "output_type": "execute_result"
    }
   ],
   "source": [
    "pitch"
   ]
  },
  {
   "cell_type": "code",
   "execution_count": 121,
   "metadata": {},
   "outputs": [],
   "source": [
    "savefilevar = 'bifacialvf_results.csv'"
   ]
  },
  {
   "cell_type": "code",
   "execution_count": 122,
   "metadata": {},
   "outputs": [],
   "source": [
    "df_weather_gid\n",
    "meta_dict['TZ'] = meta_dict['timezone']\n",
    "meta_dict['Name'] = meta_dict['county']\n",
    "meta_dict['altitude'] = meta_dict['elevation']"
   ]
  },
  {
   "cell_type": "code",
   "execution_count": 254,
   "metadata": {},
   "outputs": [],
   "source": [
    "tilt = np.round(meta_dict['latitude'])"
   ]
  },
  {
   "cell_type": "code",
   "execution_count": 123,
   "metadata": {},
   "outputs": [],
   "source": [
    "df_weather_gid = df_weather_gid.rename(columns={'dni': 'DNI',\n",
    "                               'dhi': 'DHI',\n",
    "                               'ghi': 'GHI'\n",
    "                              })"
   ]
  },
  {
   "cell_type": "code",
   "execution_count": 124,
   "metadata": {},
   "outputs": [
    {
     "name": "stdout",
     "output_type": "stream",
     "text": [
      "No albedo value set or included in TMY3 file (TMY Column name 'Alb (unitless)' expected) Setting albedo default to 0.2\n",
      " \n",
      " \n",
      "********* \n",
      "Running Simulation for TMY3: \n",
      "Location:   Boulder\n",
      "Lat:  39.970001220703125  Long:  -105.05999755859375  Tz  -7\n",
      "Parameters: tilt:  30   Sazm:  180     Clearance_Height :  0.75   Pitch:  2.5   Row type:  interior   Albedo:  0.2\n",
      "Saving into bifacialvf_results.csv\n",
      " \n",
      " \n",
      "Distance between rows for no shading on Dec 21 at 9 am solar time =  1.4081673453778745\n",
      "Actual distance between rows =  1.6339745962155612\n",
      " \n",
      "Warning: tracking=False, but backtracking=True.  Setting backtracking=False because it doesn't make  sense to backtrack on fixed tilt systems.\n",
      "Saving Ground Irradiance Values for AgriPV Analysis. \n"
     ]
    },
    {
     "name": "stderr",
     "output_type": "stream",
     "text": [
      "100%|██████████| 8760/8760 [00:57<00:00, 151.85it/s]"
     ]
    },
    {
     "name": "stdout",
     "output_type": "stream",
     "text": [
      "Finished\n"
     ]
    },
    {
     "name": "stderr",
     "output_type": "stream",
     "text": [
      "\n"
     ]
    }
   ],
   "source": [
    "bifacialvf.simulate(df_weather_gid, meta_dict, writefiletitle=savefilevar, \n",
    "                 tilt=tilt, sazm=sazm, pitch=pitch, clearance_height=clearance_height, \n",
    "                 rowType=rowType, transFactor=transFactor, sensorsy=sensorsy, \n",
    "                 PVfrontSurface=PVfrontSurface, PVbackSurface=PVbackSurface,\n",
    "                 albedo=albedo, tracking=tracking, backtrack=backtrack, \n",
    "                 limit_angle=limit_angle, calculatePVMismatch=calculatePVMismatch,\n",
    "                 cellsnum = cellsnum, bififactor=bififactor,\n",
    "                 calculateBilInterpol=calculateBilInterpol,\n",
    "                 portraitorlandscape=portraitorlandscape,\n",
    "                 deltastyle='SAM', agriPV=True)"
   ]
  },
  {
   "cell_type": "code",
   "execution_count": 228,
   "metadata": {},
   "outputs": [],
   "source": [
    "data, meta = bifacialvf.loadVFresults(savefilevar)"
   ]
  },
  {
   "cell_type": "code",
   "execution_count": 229,
   "metadata": {},
   "outputs": [
    {
     "data": {
      "text/plain": [
       "0       0.0 0.0 0.0 0.0 0.0 0.0 0.0 0.0 0.0 0.0 0.0 0....\n",
       "1       9.387591471805266 9.24581223286671 9.106955373...\n",
       "2       22.295529745537507 21.958804053058437 21.62901...\n",
       "3       59.96870399428396 59.06300659170983 58.1759775...\n",
       "4       74.24530282297901 73.1239883132222 72.02578654...\n",
       "                              ...                        \n",
       "4422    58.70498861369625 57.818376895179924 56.950040...\n",
       "4423    63.486093240425795 62.52727329072481 61.588216...\n",
       "4424    67.32202380377127 66.30527043019626 65.3094745...\n",
       "4425    35.7630054807104 35.222882733098395 34.6938930...\n",
       "4426    29.265001786224566 28.823017312012194 28.39014...\n",
       "Name: Ground Irradiance Values, Length: 4427, dtype: object"
      ]
     },
     "execution_count": 229,
     "metadata": {},
     "output_type": "execute_result"
    }
   ],
   "source": [
    "data['Ground Irradiance Values'].str.strip('[]')"
   ]
  },
  {
   "cell_type": "code",
   "execution_count": 128,
   "metadata": {},
   "outputs": [],
   "source": [
    "ground = data['Ground Irradiance Values'].str.strip('[]').str.split(' ', expand=True).astype(float)"
   ]
  },
  {
   "cell_type": "code",
   "execution_count": 156,
   "metadata": {},
   "outputs": [
    {
     "data": {
      "text/plain": [
       "23"
      ]
     },
     "execution_count": 156,
     "metadata": {},
     "output_type": "execute_result"
    }
   ],
   "source": [
    "# Calculate geometry\n",
    "xp = np.cos(np.radians(float(meta['Tilt(deg)'])))\n",
    "u = int(np.ceil(100*xp/pitch))\n",
    "b = 100-u\n",
    "bA = int(np.floor(b/3.0))\n",
    "bC = int(bA)\n",
    "bB = int(b-bA-bC)"
   ]
  },
  {
   "cell_type": "code",
   "execution_count": 234,
   "metadata": {},
   "outputs": [],
   "source": [
    "data.set_index(pd.to_datetime(data.date), inplace=True)"
   ]
  },
  {
   "cell_type": "code",
   "execution_count": 239,
   "metadata": {},
   "outputs": [
    {
     "data": {
      "text/plain": [
       "'2021-05-01 04:30:00-07:00'"
      ]
     },
     "execution_count": 239,
     "metadata": {},
     "output_type": "execute_result"
    }
   ],
   "source": [
    "datestart"
   ]
  },
  {
   "cell_type": "code",
   "execution_count": 242,
   "metadata": {},
   "outputs": [],
   "source": [
    "underpanel = []\n",
    "bedA = []\n",
    "bedB = []\n",
    "bedC = []\n",
    "for mmonths in range (5, 10):\n",
    "    datestart = data[data.index.month == mmonths].iloc[0].date\n",
    "    dateend = data[data.index.month == mmonths].iloc[-1].date\n",
    "    mask = (data.index >= datestart) & (data.index <= dateend)\n",
    "    underpanel.append(ground[mask].iloc[:,0:u].mean(axis=1).mean())\n",
    "    bedA.append(ground[mask].iloc[:,u:u+bA].mean(axis=1).mean())\n",
    "    bedB.append(ground[mask].iloc[:,u+bA:u+bA+bB].mean(axis=1).mean())\n",
    "    bedC.append(ground[mask].iloc[:,u+bA+bB:].mean(axis=1).mean())\n",
    "x = underpanel, bedA, bedB, bedC"
   ]
  },
  {
   "cell_type": "code",
   "execution_count": 249,
   "metadata": {},
   "outputs": [
    {
     "data": {
      "text/plain": [
       "([149.93106454608926,\n",
       "  140.48776742197165,\n",
       "  138.47376625871124,\n",
       "  187.0220626322373,\n",
       "  252.18357927411606],\n",
       " [199.61728373857753,\n",
       "  281.7549791868597,\n",
       "  233.81604367981924,\n",
       "  106.3521725165415,\n",
       "  49.02047599776755],\n",
       " [429.932449684163,\n",
       "  459.94615226737716,\n",
       "  432.71255487156884,\n",
       "  397.27684851511634,\n",
       "  171.95775954477028],\n",
       " [419.52716319080275,\n",
       "  444.23648114073774,\n",
       "  418.733705844808,\n",
       "  432.8237867068464,\n",
       "  383.50099838108633])"
      ]
     },
     "execution_count": 249,
     "metadata": {},
     "output_type": "execute_result"
    }
   ],
   "source": [
    "x"
   ]
  },
  {
   "cell_type": "code",
   "execution_count": 252,
   "metadata": {},
   "outputs": [
    {
     "data": {
      "text/plain": [
       "106.3521725165415"
      ]
     },
     "execution_count": 252,
     "metadata": {},
     "output_type": "execute_result"
    }
   ],
   "source": [
    "#x[0][1] #<- undrebed, month June\n",
    "#x[1][3] #<- bedA, month August"
   ]
  },
  {
   "cell_type": "code",
   "execution_count": null,
   "metadata": {},
   "outputs": [],
   "source": []
  }
 ],
 "metadata": {
  "kernelspec": {
   "display_name": "jan23",
   "language": "python",
   "name": "jan23"
  },
  "language_info": {
   "codemirror_mode": {
    "name": "ipython",
    "version": 3
   },
   "file_extension": ".py",
   "mimetype": "text/x-python",
   "name": "python",
   "nbconvert_exporter": "python",
   "pygments_lexer": "ipython3",
   "version": "3.9.5"
  }
 },
 "nbformat": 4,
 "nbformat_minor": 2
}
