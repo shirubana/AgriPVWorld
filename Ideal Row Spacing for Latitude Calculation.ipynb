{
 "cells": [
  {
   "cell_type": "code",
   "execution_count": 5,
   "id": "5a2b38b3",
   "metadata": {},
   "outputs": [],
   "source": [
    "import os\n",
    "from pathlib import Path\n",
    "import bifacial_radiance as br\n",
    "import numpy as np\n",
    "import datetime\n",
    "import pickle\n",
    "import pandas as pd\n",
    "import numpy as np\n",
    "import bifacialvf\n",
    "\n",
    "# Making folders for saving the simulations\n",
    "testfolder = os.path.join(os.getcwd(), 'TEMP')"
   ]
  },
  {
   "cell_type": "code",
   "execution_count": 35,
   "id": "4c9a30fd",
   "metadata": {},
   "outputs": [
    {
     "name": "stdout",
     "output_type": "stream",
     "text": [
      "0.4.2+143.gd6cf83b.dirty\n",
      "0.1.8.1\n"
     ]
    }
   ],
   "source": [
    "print(br.__version__)\n",
    "print(bifacialvf.__version__)"
   ]
  },
  {
   "cell_type": "code",
   "execution_count": 9,
   "id": "6c7b83bc",
   "metadata": {},
   "outputs": [
    {
     "name": "stdout",
     "output_type": "stream",
     "text": [
      "path = C:\\Users\\sayala\\Documents\\GitHub\\Studies\\AgriPVWorld\\TEMP\n",
      "Getting weather file: USA_CO_Golden-NREL.724666_TMY3.epw\n",
      " ... OK!\n",
      "8760 line in WeatherFile. Assuming this is a standard hourly WeatherFile for the year for purposes of saving Gencumulativesky temporary weather files in EPW folder.\n",
      "Coercing year to 2021\n",
      "Saving file EPWs\\metdata_temp.csv, # points: 8760\n",
      "Calculating Sun position for Metdata that is right-labeled  with a delta of -30 mins. i.e. 12 is 11:30 sunpos\n"
     ]
    }
   ],
   "source": [
    "radObj = br.RadianceObj('Setup',testfolder)\n",
    "\n",
    "lat = 39.7407\n",
    "lon = -105.1686\n",
    "sazm = 180 \n",
    "y = 2 # Collector Width for 1-up\n",
    "\n",
    "epwfile = radObj.getEPW(lat, lon) \n",
    "metData = radObj.readWeatherFile(epwfile)"
   ]
  },
  {
   "cell_type": "code",
   "execution_count": 34,
   "id": "601597dc",
   "metadata": {},
   "outputs": [
    {
     "data": {
      "text/plain": [
       "5.116777543792527"
      ]
     },
     "execution_count": 34,
     "metadata": {},
     "output_type": "execute_result"
    }
   ],
   "source": [
    "# Distance between rows for no shading on Dec 21 at 9 am (Northern Hemisphere) or Jun 21st (Southern Hemisphere)\n",
    "DD = bifacialvf.vf.rowSpacing(np.round(metData.latitude), sazm, metData.latitude, metData.longitude, metData.timezone, 9, 0.0)\n",
    "normalized_pitch = DD + np.cos(np.round(metData.latitude) / 180.0 * np.pi)\n",
    "pitch = normalized_pitch*y\n",
    "pitch"
   ]
  }
 ],
 "metadata": {
  "kernelspec": {
   "display_name": "pySAM",
   "language": "python",
   "name": "pysam"
  },
  "language_info": {
   "codemirror_mode": {
    "name": "ipython",
    "version": 3
   },
   "file_extension": ".py",
   "mimetype": "text/x-python",
   "name": "python",
   "nbconvert_exporter": "python",
   "pygments_lexer": "ipython3",
   "version": "3.9.13"
  }
 },
 "nbformat": 4,
 "nbformat_minor": 5
}
