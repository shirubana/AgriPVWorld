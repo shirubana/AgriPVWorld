{
 "cells": [
  {
   "cell_type": "code",
   "execution_count": 1,
   "id": "5a2b38b3",
   "metadata": {},
   "outputs": [],
   "source": [
    "import os\n",
    "from pathlib import Path\n",
    "import bifacial_radiance as br\n",
    "import numpy as np\n",
    "import datetime\n",
    "import pickle\n",
    "import pandas as pd\n",
    "import numpy as np\n",
    "import bifacialvf\n",
    "\n",
    "# Making folders for saving the simulations\n",
    "testfolder = os.path.join(os.getcwd(), 'TEMP')"
   ]
  },
  {
   "cell_type": "code",
   "execution_count": 2,
   "id": "4c9a30fd",
   "metadata": {},
   "outputs": [
    {
     "name": "stdout",
     "output_type": "stream",
     "text": [
      "0.4.2+148.gdb91364.dirty\n",
      "0.1.8.1\n"
     ]
    }
   ],
   "source": [
    "print(br.__version__)\n",
    "print(bifacialvf.__version__)"
   ]
  },
  {
   "cell_type": "code",
   "execution_count": 48,
   "id": "6c7b83bc",
   "metadata": {},
   "outputs": [],
   "source": [
    "lat = 39.7407\n",
    "lon = -105.1686\n",
    "sazm = 180 \n",
    "y = 2 # Collector Width for 1-up\n",
    "tz = -8\n",
    "lat = 49.1756  # NorthWest Angle Minnesota\n",
    "lon = -95.0110  # NorthWest Angle Minnesota\n",
    "lat = 71.2320 # Alaska Point Barrow\n",
    "lon = -156.28  # Alaska Point Barrow\n",
    "\n",
    "#lat = 47.6062 # Seattle\n",
    "#lon = -122.3321 # Seattle"
   ]
  },
  {
   "cell_type": "code",
   "execution_count": 50,
   "id": "13b4b735",
   "metadata": {},
   "outputs": [
    {
     "data": {
      "text/plain": [
       "5.0"
      ]
     },
     "execution_count": 50,
     "metadata": {},
     "output_type": "execute_result"
    }
   ],
   "source": [
    "10/2"
   ]
  },
  {
   "cell_type": "code",
   "execution_count": 49,
   "id": "601597dc",
   "metadata": {},
   "outputs": [
    {
     "data": {
      "text/plain": [
       "-0.8975856389962782"
      ]
     },
     "execution_count": 49,
     "metadata": {},
     "output_type": "execute_result"
    }
   ],
   "source": [
    "# Distance betwee5b\\n rows for no shading on Dec 21 at 9 am (Northern Hemisphere) or Jun 21st (Southern Hemisphere)\n",
    "DD = bifacialvf.vf.rowSpacing(np.round(lat), sazm, lat, lon, tz, 9, 0.0)\n",
    "DD"
   ]
  },
  {
   "cell_type": "code",
   "execution_count": null,
   "id": "4ee9ed8f",
   "metadata": {},
   "outputs": [],
   "source": [
    "radObj = br.RadianceObj('Setup',testfolder)\n",
    "epwfile = radObj.getEPW(lat, lon) \n",
    "metData = radObj.readWeatherFile(epwfile)"
   ]
  },
  {
   "cell_type": "code",
   "execution_count": null,
   "id": "6f2780c4",
   "metadata": {},
   "outputs": [],
   "source": [
    "# Distance between rows for no shading on Dec 21 at 9 am (Northern Hemisphere) or Jun 21st (Southern Hemisphere)\n",
    "DD = bifacialvf.vf.rowSpacing(np.round(metData.latitude), sazm, metData.latitude, metData.longitude, metData.timezone, 9, 0.0)\n",
    "DD"
   ]
  },
  {
   "cell_type": "code",
   "execution_count": null,
   "id": "1f5216bf",
   "metadata": {},
   "outputs": [],
   "source": [
    "normalized_pitch = DD + np.cos(np.round(metData.latitude) / 180.0 * np.pi)\n",
    "pitch = normalized_pitch*y*pitchfactor\n",
    "pitch"
   ]
  },
  {
   "cell_type": "code",
   "execution_count": 8,
   "id": "bec02031",
   "metadata": {},
   "outputs": [],
   "source": [
    "import math\n",
    "\n",
    "def rowSpacing(beta, sazm, lat, lng, tz, hour, minute):\n",
    "    \"\"\"\n",
    "    This method determines the horizontal distance D between rows of PV panels\n",
    "    (in PV module/panel slope lengths) for no shading on December 21 (north\n",
    "    hemisphere) June 21 (south hemisphere) for a module tilt angle beta and\n",
    "    surface azimuth sazm, and a given latitude, longitude, and time zone and\n",
    "    for the time passed to the method (typically 9 am).\n",
    "\n",
    "    (Ref: the row-to-row spacing is then ``D + cos(beta)``)\n",
    "    8/21/2015\n",
    "\n",
    "    Parameters\n",
    "    ----------\n",
    "    beta : double\n",
    "        Tilt from horizontal of the PV modules/panels (deg)\n",
    "    sazm : double\n",
    "        Surface azimuth of the PV modules/panels (deg)\n",
    "    lat : double\n",
    "        Site latitude (deg)\n",
    "    lng : double\n",
    "        Site longitude (deg)\n",
    "    tz : double\n",
    "        Time zone (hrs)\n",
    "    hour : int\n",
    "        hour for no shading criteria\n",
    "    minute: double\n",
    "        minute for no shading\n",
    "\n",
    "    Returns\n",
    "    -------\n",
    "    D : numeric\n",
    "        Horizontal distance between rows of PV panels (in PV panel slope\n",
    "        lengths)\n",
    "    \"\"\"     \n",
    "    DTOR = math.pi / 180.0  # Factor for converting from degrees to radians\n",
    "\n",
    "    beta = beta * DTOR  # Tilt from horizontal of the PV modules/panels, in radians\n",
    "    sazm = sazm * DTOR  # Surface azimuth of PV module/pamels, in radians\n",
    "    if lat >= 0:\n",
    "        [azm, zen, elv, dec, sunrise, sunset, Eo, tst] = solarPos (2014, 12, 21, hour, minute, lat, lng, tz)\n",
    "    else:\n",
    "        [azm, zen, elv, dec, sunrise, sunset, Eo, tst] = solarPos (2014, 6, 21, hour, minute, lat, lng, tz)\n",
    "    tst = 8.877  ##DLL Forced value\n",
    "    minute -= 60.0 * (tst - hour);      # Adjust minute so sun position is calculated for a tst equal to the\n",
    "      # time passed to the function\n",
    "\n",
    "    if lat >= 0:\n",
    "        [azm, zen, elv, dec, sunrise, sunset, Eo, tst] = solarPos(2014, 12, 21, hour, minute, lat, lng, tz)\n",
    "    else:\n",
    "        [azm, zen, elv, dec, sunrise, sunset, Eo, tst] = solarPos(2014, 6, 21, hour, minute, lat, lng, tz)\n",
    "      \n",
    "    # Console.WriteLine(\"tst = {0} azm = {1} elv = {2}\", tst, azm * 180.0 / Math.PI, elv * 180.0 / Math.PI);\n",
    "    D = math.cos(sazm - azm) * math.sin(beta) / math.tan(elv)\n",
    "    return D"
   ]
  },
  {
   "cell_type": "code",
   "execution_count": 10,
   "id": "b8772444",
   "metadata": {},
   "outputs": [],
   "source": [
    "def solarPos( year, month, day, hour, minute, lat, lng, tz ): \t\t\n",
    "    # This method is based on a paper by Michalsky published in Solar Energy\n",
    "    # Vol. 40, No. 3, pp. 227-235, 1988. It calculates solar position for the\n",
    "    # time and location passed to the method based on the Astronomical\n",
    "    # Almanac's Algorithm for the period 1950-2050. For data averaged over an\n",
    "    # interval, the appropriate time passed is the midpoint of the interval.\n",
    "    # (Example: For hourly data averaged from 10 to 11, the time passed to the\n",
    "    # method should be 10 hours and 30 minutes). The exception is when the time\n",
    "    # interval includes a sunrise or sunset. For these intervals, the appropriate\n",
    "    # time should be the midpoint of the portion of the interval when the sun is\n",
    "    # above the horizon. (Example: For hourly data averaged from 7 to 8 with a\n",
    "    # sunrise time of 7:30, the time passed to the method should be 7 hours and\n",
    "    # and 45 minutes).\n",
    "    #\n",
    "    # Revised 5/15/98. Replaced algorithm for solar azimuth with one by Iqbal\n",
    "    # so latitudes below the equator are correctly handled. Also put in checks\n",
    "    # to allow an elevation of 90 degrees without crashing the program and prevented\n",
    "    # elevation from exceeding 90 degrees after refraction correction.\n",
    "    #\t\t\t\n",
    "    # Revised 4/1/03. Converted to C# and simplified in a few places. \n",
    "    #\n",
    "    # This method calls the method Julian to get the julian day of year.\n",
    "    #\n",
    "    # List of Parameters Passed to Method:\n",
    "    # year   = year (e.g. 1986)\n",
    "    # month  = month of year (e.g. 1=Jan)\n",
    "    # day    = day of month\n",
    "    # hour   = hour of day, local standard time, (1-24, or 0-23)\n",
    "    # minute = minutes past the hour, local standard time\n",
    "    # lat    = latitude in degrees, north positive\n",
    "    # lng    = longitude in degrees, east positive\n",
    "    # tz     = time zone, west longitudes negative\n",
    "    # List of Out Parameters\n",
    "    # azm = sun azimuth in radians, measured east from north, 0 to 2*pi\n",
    "    # zen = sun zenith in radians, 0 to pi\n",
    "    # elv = sun elevation in radians, -pi/2 to pi/2\n",
    "    # dec = sun declination in radians\n",
    "    # sunrise = in local standard time (hrs), not corrected for refraction\n",
    "    # sunset = in local standard time (hrs), not corrected for refraction\n",
    "    # Eo = eccentricity correction factor\n",
    "    # tst = true solar time (hrs)                */\n",
    "\n",
    "\t\t\tDTOR = math.pi / 180.0  # Factor for converting from degrees to radians\n",
    "\n",
    "\t\t\tpi=math.pi; DTOR=math.pi/180\n",
    "\t\t\tzulu = 0.0; jd = 0.0; time = 0.0; mnlong = 0.0; mnanom = 0.0 \n",
    "\t\t\teclong= 0.0; oblqec = 0.0; num = 0.0; den = 0.0; den = 0.0; ra = 0.0\n",
    "\t\t\tgmst = 0.0; lmst = 0.0; ha = 0.0; refrac = 0.0; E = 0.0; ws = 0.0; arg = 0.0\n",
    "     \n",
    "\t\t\tjday = julian(year,month,day);\t\t# Get julian day of year\n",
    "\t\t\tzulu = hour + minute/60.0 - tz;\t\t# Convert local time to zulu time\n",
    "\t\t\tdelta = year - 1949;\n",
    "\t\t\tleap = int(delta/4);\n",
    "\t\t\tjd = 32916.5 + delta*365 + leap + jday + zulu/24.0;\n",
    "\t\t\ttime = jd - 51545.0;\t# Time in days referenced from noon 1 Jan 2000\n",
    "\n",
    "\t\t\tmnlong = 280.46 + 0.9856474*time;\n",
    "\t\t\tmnlong = iEEERemainder(mnlong,360.0);\t# Finds floating point remainder\n",
    "\t\t\tif( mnlong < 0.0 ):\n",
    "\t\t\t\tmnlong += 360.0;    # Mean longitude between 0-360 deg\n",
    "\n",
    "\t\t\tmnanom = 357.528 + 0.9856003*time;\n",
    "\t\t\tmnanom = iEEERemainder(mnanom,360.0);\n",
    "\t\t\tif( mnanom < 0.0 ):\n",
    "\t\t\t\tmnanom += 360.0;\n",
    "\t\t\tmnanom = mnanom*DTOR;\t# Mean anomaly between 0-2pi radians \n",
    "\n",
    "\t\t\teclong = mnlong + 1.915*math.sin(mnanom) + 0.020*math.sin(2.0*mnanom);\n",
    "\t\t\teclong = iEEERemainder(eclong,360.0);\n",
    "\t\t\tif( eclong < 0.0 ):\n",
    "\t\t\t\teclong += 360.0;\n",
    "\t\t\teclong = eclong*DTOR;\t# Ecliptic longitude between 0-2pi radians\n",
    "\n",
    "\t\t\toblqec = ( 23.439 - 0.0000004*time )*DTOR;   # Obliquity of ecliptic in radians\n",
    "\t\t\tnum = math.cos(oblqec)*math.sin(eclong);\n",
    "\t\t\tden = math.cos(eclong);\n",
    "\t\t\tra  = math.atan(num/den);\t# Right ascension in radians\n",
    "\t\t\tif( den < 0.0 ):\n",
    "\t\t\t\tra += pi;\n",
    "\t\t\telif( num < 0.0 ):\n",
    "\t\t\t\tra += 2.0*pi;\n",
    "\n",
    "\t\t\tdec = math.asin( math.sin(oblqec)*math.sin(eclong) );  # Declination in radians\n",
    "\n",
    "\t\t\tgmst = 6.697375 + 0.0657098242*time + zulu;\n",
    "\t\t\tgmst = iEEERemainder(gmst,24.0);\n",
    "\t\t\tif( gmst < 0.0 ):\n",
    "\t\t\t\tgmst += 24.0;\t\t\t# Greenwich mean sidereal time in hours \n",
    "\n",
    "\t\t\tlmst = gmst + lng/15.0;\n",
    "\t\t\tlmst = iEEERemainder(lmst,24.0);\n",
    "\t\t\tif( lmst < 0.0 ):\n",
    "\t\t\t\tlmst += 24.0;\n",
    "\t\t\tlmst = lmst*15.0*DTOR;\t\t# Local mean sidereal time in radians \n",
    "\n",
    "\t\t\tha = lmst - ra;\n",
    "\t\t\tif( ha < -pi ):\n",
    "\t\t\t\tha += 2*pi;\n",
    "\t\t\telif( ha > pi ):\n",
    "\t\t\t\tha -= 2*pi;\t\t\t\t# Hour angle in radians between -pi and pi \n",
    "\n",
    "\t\t\tlat = lat*DTOR;\t\t\t\t# Change latitude to radians \n",
    "\n",
    "\t\t\targ = math.sin(dec)*math.sin(lat) + math.cos(dec)*math.cos(lat)*math.cos(ha);  # For elevation in radians\n",
    "\t\t\tif( arg > 1.0 ):\n",
    "\t\t\t\telv = pi/2.0;\n",
    "\t\t\telif( arg < -1.0 ):\n",
    "\t\t\t\telv = -pi/2.0;\n",
    "\t\t\telse:\n",
    "\t\t\t\telv = math.asin(arg);\n",
    "\n",
    "\t\t\tif( math.cos(elv) == 0.0 ):\n",
    "\t\t\t\tazm = pi;\t\t# Assign azimuth = 180 deg if elv = 90 or -90\n",
    "\t\t\telse:\n",
    "\t\t\t\t\t\t# For solar azimuth in radians per Iqbal\n",
    "\t\t\t\targ = ((math.sin(elv)*math.sin(lat)-math.sin(dec))/(math.cos(elv)*math.cos(lat))); # for azimuth\n",
    "\t\t\t\tif( arg > 1.0 ):\n",
    "\t\t\t\t\tazm = 0.0;              # Azimuth(radians)\n",
    "\t\t\t\telif( arg < -1.0 ):\n",
    "\t\t\t\t\tazm = pi;\n",
    "\t\t\t\telse:\n",
    "\t\t\t\t\tazm = math.acos(arg);\n",
    "\n",
    "\t\t\t\tif( ( ha <= 0.0 and ha >= -pi) or ha >= pi ):\n",
    "\t\t\t\t\tazm = pi - azm;\n",
    "\t\t\t\telse:\n",
    "\t\t\t\t\tazm = pi + azm;\n",
    "\t\t\t\n",
    "\n",
    "\t\t\telv = elv/DTOR;\t\t# Change to degrees for atmospheric correction\n",
    "\t\t\tif( elv > -0.56 ):\n",
    "\t\t\t\trefrac = 3.51561*( 0.1594 + 0.0196*elv + 0.00002*elv*elv )/( 1.0 + 0.505*elv + 0.0845*elv*elv );\n",
    "\t\t\telse:\n",
    "\t\t\t\trefrac = 0.56;\n",
    "\t\t\tif( elv + refrac > 90.0 ):\n",
    "\t\t\t\telv = 90.0*DTOR;\n",
    "\t\t\telse:\n",
    "\t\t\t\telv = ( elv + refrac )*DTOR ; # Atmospheric corrected elevation(radians)\n",
    "\n",
    "\t\t\tE = ( mnlong - ra/DTOR )/15.0;       # Equation of time in hours\n",
    "\t\t\tif( E < - 0.33 ):   # Adjust for error occuring if mnlong and ra are in quadrants I and IV\n",
    "\t\t\t\tE += 24.0;\n",
    "\t\t\telif( E > 0.33 ):\n",
    "\t\t\t\tE -= 24.0;\n",
    "\n",
    "\t\t\targ = -math.tan(lat)*math.tan(dec);\n",
    "\t\t\tif( arg >= 1.0 ):\n",
    "\t\t\t\tws = 0.0;\t\t\t\t\t\t# No sunrise, continuous nights\n",
    "\t\t\telif( arg <= -1.0 ):\n",
    "\t\t\t\tws = pi;\t\t\t\t\t\t# No sunset, continuous days\n",
    "\t\t\telse:\n",
    "\t\t\t\tws = math.acos(arg);\t\t\t# Sunrise hour angle in radians\n",
    "\n",
    "\t\t\t# Sunrise and sunset in local standard time\n",
    "\t\t\tsunrise = 12.0 - (ws/DTOR)/15.0 - (lng/15.0 - tz) - E;\n",
    "\t\t\tsunset  = 12.0 + (ws/DTOR)/15.0 - (lng/15.0 - tz) - E;\n",
    "\n",
    "\t\t\tEo = 1.00014 - 0.01671*math.cos(mnanom) - 0.00014*math.cos(2.0*mnanom);  # Earth-sun distance (AU)   \n",
    "\t\t\tEo = 1.0/(Eo*Eo);\t\t\t\t\t# Eccentricity correction factor\n",
    "\t\t\ttst = hour + minute/60.0 + (lng/15.0 - tz) + E;  # True solar time (hr) \n",
    "\t\t\tzen = 0.5*pi - elv;\t\t\t\t\t#  Zenith angle\t\t\n",
    "\t\t\t\t# End of SolarPos method\n",
    "            \n",
    "            \n",
    "\t\t\treturn azm, zen, elv, dec, sunrise, sunset, Eo, tst;\n",
    "\t\t\t# End of solarPos\n"
   ]
  },
  {
   "cell_type": "code",
   "execution_count": 15,
   "id": "d53d90bf",
   "metadata": {},
   "outputs": [],
   "source": []
  },
  {
   "cell_type": "code",
   "execution_count": 14,
   "id": "5430a208",
   "metadata": {},
   "outputs": [],
   "source": [
    "def iEEERemainder(x,y):\n",
    "    z = x-y*round(x/y)\n",
    "    return z;\n",
    "    \n",
    "def julian(year, month, day):\n",
    "    \t\t\n",
    "\t# Returns julian day of year\n",
    "    i=1; jday=0; k=0;\n",
    "    nday = [31,28,31,30,31,30,31,31,30,31,30,31];\n",
    "\n",
    "    if( year % 4 == 0 ):\n",
    "        k = 1;\n",
    "    while( i < month ):\n",
    "        jday += nday[i-1];\n",
    "        i += 1;\n",
    "    if( month > 2 ):\n",
    "        jday += k + day;\n",
    "    else:\n",
    "        jday += day;\t\n",
    "    \n",
    "    return jday;"
   ]
  },
  {
   "cell_type": "code",
   "execution_count": 16,
   "id": "0f097ebe",
   "metadata": {},
   "outputs": [
    {
     "data": {
      "text/plain": [
       "1.7923443287772856"
      ]
     },
     "execution_count": 16,
     "metadata": {},
     "output_type": "execute_result"
    }
   ],
   "source": [
    "# Distance between rows for no shading on Dec 21 at 9 am (Northern Hemisphere) or Jun 21st (Southern Hemisphere)\n",
    "DD = rowSpacing(beta = np.round(metData.latitude), sazm, metData.latitude, metData.longitude, metData.timezone, 9, 0.0)\n",
    "DD"
   ]
  },
  {
   "cell_type": "code",
   "execution_count": 66,
   "id": "dd7b87ac",
   "metadata": {},
   "outputs": [],
   "source": [
    "#(beta, sazm, lat, lng, tz, hour, minute):\n",
    "    \n",
    "beta = np.round(metData.latitude)\n",
    "sazm = sazm\n",
    "lat = metData.latitude\n",
    "lng = metData.longitude\n",
    "tz = metData.timezone\n",
    "hour = 9\n",
    "minute = 0.0"
   ]
  },
  {
   "cell_type": "code",
   "execution_count": 52,
   "id": "248d8bdb",
   "metadata": {},
   "outputs": [],
   "source": [
    "lat = 51.88999938964844 \n",
    "lng = -178.05999755859375\n",
    "tz = -10\n",
    "beta = np.round(lat)\n",
    "beta\n",
    "sazm = 180"
   ]
  },
  {
   "cell_type": "code",
   "execution_count": 105,
   "id": "8770aaa2",
   "metadata": {},
   "outputs": [],
   "source": [
    "lat = 47.6062\n",
    "lng = -122.3321\n",
    "beta = 20\n",
    "tz = -7\n",
    "sazm = 180"
   ]
  },
  {
   "cell_type": "code",
   "execution_count": 106,
   "id": "d74146bd",
   "metadata": {},
   "outputs": [
    {
     "data": {
      "text/plain": [
       "9.199259864227068"
      ]
     },
     "execution_count": 106,
     "metadata": {},
     "output_type": "execute_result"
    }
   ],
   "source": [
    "DD = bifacialvf.vf.rowSpacing(beta, sazm, lat, lng, tz, 9, 0.0)\n",
    "DD"
   ]
  },
  {
   "cell_type": "code",
   "execution_count": 107,
   "id": "f52da223",
   "metadata": {},
   "outputs": [
    {
     "data": {
      "text/plain": [
       "19.73678094117185"
      ]
     },
     "execution_count": 107,
     "metadata": {},
     "output_type": "execute_result"
    }
   ],
   "source": [
    "normalized_pitch = DD + np.cos(np.round(lat) / 180.0 * np.pi)\n",
    "pitch = normalized_pitch*y*1\n",
    "pitch"
   ]
  },
  {
   "cell_type": "code",
   "execution_count": 108,
   "id": "15c25eba",
   "metadata": {},
   "outputs": [
    {
     "data": {
      "text/plain": [
       "9.868390470585926"
      ]
     },
     "execution_count": 108,
     "metadata": {},
     "output_type": "execute_result"
    }
   ],
   "source": [
    "normalized_pitch"
   ]
  },
  {
   "cell_type": "code",
   "execution_count": 68,
   "id": "379b8bac",
   "metadata": {},
   "outputs": [],
   "source": [
    "DTOR = math.pi / 180.0  # Factor for converting from degrees to radians\n",
    "\n",
    "beta = beta * DTOR  # Tilt from horizontal of the PV modules/panels, in radians\n",
    "sazm = sazm * DTOR  # Surface azimuth of PV module/pamels, in radians"
   ]
  },
  {
   "cell_type": "code",
   "execution_count": 69,
   "id": "9d32428e",
   "metadata": {},
   "outputs": [
    {
     "name": "stdout",
     "output_type": "stream",
     "text": [
      "Yes\n"
     ]
    }
   ],
   "source": [
    "if lat >= 0:\n",
    "    print(\"Yes\")"
   ]
  },
  {
   "cell_type": "code",
   "execution_count": 70,
   "id": "4a687e60",
   "metadata": {},
   "outputs": [
    {
     "data": {
      "text/plain": [
       "[2.4125458009204848,\n",
       " 1.3200367521261622,\n",
       " 0.2507595746687344,\n",
       " -0.40904373236328373,\n",
       " 7.3891587836817125,\n",
       " 16.57247602596137,\n",
       " 1.0333401292900897,\n",
       " 9.019182595178457]"
      ]
     },
     "execution_count": 70,
     "metadata": {},
     "output_type": "execute_result"
    }
   ],
   "source": [
    "[azm, zen, elv, dec, sunrise, sunset, Eo, tst] = solarPos (2014, 12, 21, hour, minute, lat, lng, tz)\n",
    "[azm, zen, elv, dec, sunrise, sunset, Eo, tst]"
   ]
  },
  {
   "cell_type": "code",
   "execution_count": 61,
   "id": "18a4e265",
   "metadata": {},
   "outputs": [],
   "source": [
    "tst = 8.877  ##DLL Forced value\n",
    "minute -= 60.0 * (tst - hour);"
   ]
  },
  {
   "cell_type": "code",
   "execution_count": 62,
   "id": "af669cba",
   "metadata": {},
   "outputs": [
    {
     "data": {
      "text/plain": [
       "[2.1771566464679575,\n",
       " 1.6203329363809928,\n",
       " -0.049536609586096396,\n",
       " -0.4090481895381929,\n",
       " 10.077398415846922,\n",
       " 17.604065507941346,\n",
       " 1.0333612129740253,\n",
       " 7.774268038105863]"
      ]
     },
     "execution_count": 62,
     "metadata": {},
     "output_type": "execute_result"
    }
   ],
   "source": [
    "[azm, zen, elv, dec, sunrise, sunset, Eo, tst] = solarPos(2014, 12, 21, hour, minute, lat, lng, tz)\n",
    "[azm, zen, elv, dec, sunrise, sunset, Eo, tst] "
   ]
  },
  {
   "cell_type": "code",
   "execution_count": 63,
   "id": "dcaae868",
   "metadata": {},
   "outputs": [
    {
     "data": {
      "text/plain": [
       "-9.058038430447281"
      ]
     },
     "execution_count": 63,
     "metadata": {},
     "output_type": "execute_result"
    }
   ],
   "source": [
    "D = math.cos(sazm - azm) * math.sin(beta) / math.tan(elv)\n",
    "D"
   ]
  }
 ],
 "metadata": {
  "kernelspec": {
   "display_name": "pySAM",
   "language": "python",
   "name": "pysam"
  },
  "language_info": {
   "codemirror_mode": {
    "name": "ipython",
    "version": 3
   },
   "file_extension": ".py",
   "mimetype": "text/x-python",
   "name": "python",
   "nbconvert_exporter": "python",
   "pygments_lexer": "ipython3",
   "version": "3.9.13"
  }
 },
 "nbformat": 4,
 "nbformat_minor": 5
}
