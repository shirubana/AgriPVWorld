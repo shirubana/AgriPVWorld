{
 "cells": [
  {
   "cell_type": "code",
   "execution_count": 1,
   "id": "47a27451",
   "metadata": {},
   "outputs": [],
   "source": [
    "import PySAM.Pvsamv1 as PV\n",
    "import PySAM.Grid as Grid\n",
    "import PySAM.Utilityrate5 as UtilityRate\n",
    "import PySAM.Cashloan as Cashloan\n",
    "import pathlib\n",
    "import json\n",
    "import os\n",
    "\n",
    "sif2 = 'AgriPV_SAMJsons'"
   ]
  },
  {
   "cell_type": "code",
   "execution_count": 2,
   "id": "408f908d",
   "metadata": {},
   "outputs": [],
   "source": [
    "import PySAM"
   ]
  },
  {
   "cell_type": "code",
   "execution_count": 3,
   "id": "f036bfee",
   "metadata": {},
   "outputs": [
    {
     "data": {
      "text/plain": [
       "'4.0.0'"
      ]
     },
     "execution_count": 3,
     "metadata": {},
     "output_type": "execute_result"
    }
   ],
   "source": [
    "PySAM.__version__"
   ]
  },
  {
   "cell_type": "code",
   "execution_count": 4,
   "id": "f1a59531",
   "metadata": {},
   "outputs": [],
   "source": [
    "file_names = [\"pvsamv1\", \"grid\", \"utilityrate5\", \"cashloan\"]\n",
    "\n",
    "pv2 = PV.new()  # also tried PVWattsSingleOwner\n",
    "grid2 = Grid.from_existing(pv2)\n",
    "ur2 = UtilityRate.from_existing(pv2)\n",
    "so2 = Cashloan.from_existing(grid2, 'FlatPlatePVCommercial')\n",
    "\n"
   ]
  },
  {
   "cell_type": "code",
   "execution_count": 5,
   "id": "31f22ae1",
   "metadata": {},
   "outputs": [],
   "source": [
    "for count, module in enumerate([pv2, grid2, ur2, so2]):\n",
    "    filetitle= 'AgriPV_SAM' + '_' + file_names[count] + \".json\"\n",
    "    with open(os.path.join(sif2,filetitle), 'r') as file:\n",
    "        data = json.load(file)\n",
    "        for k, v in data.items():\n",
    "            if k == 'number_inputs':\n",
    "                continue\n",
    "            try:\n",
    "                module.value(k, v)\n",
    "            except AttributeError:\n",
    "                # there is an error is setting the value for ppa_escalation\n",
    "                print(module, k, v)"
   ]
  },
  {
   "cell_type": "code",
   "execution_count": 6,
   "id": "96bbcbb2",
   "metadata": {},
   "outputs": [],
   "source": [
    "#pv2.SolarResource.solar_resource_file = weatherfile\n",
    "\n",
    "grid2.SystemOutput.gen = [0] * 8760  # p_out   # let's set all the values to 0\n",
    "pv2.execute()\n",
    "grid2.execute()\n",
    "ur2.execute()\n",
    "so2.execute()\n",
    "\n",
    "results = pv2.Outputs.export()\n"
   ]
  },
  {
   "cell_type": "code",
   "execution_count": 16,
   "id": "df961413",
   "metadata": {},
   "outputs": [
    {
     "data": {
      "text/plain": [
       "8761"
      ]
     },
     "execution_count": 16,
     "metadata": {},
     "output_type": "execute_result"
    }
   ],
   "source": [
    "len(results['subarray1_ground_rear_spatial'])"
   ]
  },
  {
   "cell_type": "code",
   "execution_count": 28,
   "id": "d7b08b8f",
   "metadata": {},
   "outputs": [
    {
     "data": {
      "text/plain": [
       "tuple"
      ]
     },
     "execution_count": 28,
     "metadata": {},
     "output_type": "execute_result"
    }
   ],
   "source": [
    "type(results['subarray1_ground_rear_spatial'])"
   ]
  },
  {
   "cell_type": "code",
   "execution_count": 23,
   "id": "444e4fe4",
   "metadata": {},
   "outputs": [
    {
     "data": {
      "text/plain": [
       "(0.0,\n",
       " 0.555047545510993,\n",
       " 1.6651426365329791,\n",
       " 2.775237727554965,\n",
       " 3.885332818576951,\n",
       " 4.995427909598937,\n",
       " 6.105523000620923,\n",
       " 7.215618091642909,\n",
       " 8.325713182664895,\n",
       " 9.435808273686881,\n",
       " 10.545903364708867)"
      ]
     },
     "execution_count": 23,
     "metadata": {},
     "output_type": "execute_result"
    }
   ],
   "source": [
    "results['subarray1_ground_rear_spatial'][0]"
   ]
  },
  {
   "cell_type": "code",
   "execution_count": 24,
   "id": "bb082cdd",
   "metadata": {},
   "outputs": [
    {
     "data": {
      "text/plain": [
       "(0.0, 0.0, 0.0, 0.0, 0.0, 0.0, 0.0, 0.0, 0.0, 0.0, 0.0)"
      ]
     },
     "execution_count": 24,
     "metadata": {},
     "output_type": "execute_result"
    }
   ],
   "source": [
    "results['subarray1_ground_rear_spatial'][1]"
   ]
  },
  {
   "cell_type": "code",
   "execution_count": 27,
   "id": "1e335278",
   "metadata": {},
   "outputs": [
    {
     "data": {
      "text/plain": [
       "(1.0, 0.0, 0.0, 0.0, 0.0, 0.0, 0.0, 0.0, 0.0, 0.0, 0.0)"
      ]
     },
     "execution_count": 27,
     "metadata": {},
     "output_type": "execute_result"
    }
   ],
   "source": [
    "results['subarray1_ground_rear_spatial'][2]"
   ]
  },
  {
   "cell_type": "code",
   "execution_count": 26,
   "id": "bb443562",
   "metadata": {},
   "outputs": [
    {
     "data": {
      "text/plain": [
       "(9.0,\n",
       " 36.11741647645348,\n",
       " 36.2404045149055,\n",
       " 36.30290283956453,\n",
       " 36.34532462981446,\n",
       " 36.37693085530459,\n",
       " 315.2940312166943,\n",
       " 326.7346077742415,\n",
       " 326.75067902706434,\n",
       " 310.35012585747427,\n",
       " 34.45049855855765)"
      ]
     },
     "execution_count": 26,
     "metadata": {},
     "output_type": "execute_result"
    }
   ],
   "source": [
    "results['subarray1_ground_rear_spatial'][10]"
   ]
  },
  {
   "cell_type": "code",
   "execution_count": 15,
   "id": "47fbc6a8",
   "metadata": {},
   "outputs": [
    {
     "data": {
      "text/plain": [
       "219000"
      ]
     },
     "execution_count": 15,
     "metadata": {},
     "output_type": "execute_result"
    }
   ],
   "source": [
    "len(results['subarray1_dc_gross'])"
   ]
  },
  {
   "cell_type": "code",
   "execution_count": null,
   "id": "3dd80f1f",
   "metadata": {},
   "outputs": [],
   "source": [
    "power2 = list(results['subarray1_dc_gross']) # normalizing by the system_capacity\n",
    "celltemp2 = list(results['subarray1_celltemp'])\n",
    "rear2 = list(results['subarray1_poa_rear'])\n",
    "front2 = list(results['subarray1_poa_front'])\n",
    "\n",
    "\n",
    "\n",
    "simtyp = [orga.loc[ii]['Sim']] * 8760\n",
    "\n",
    "res = pd.DataFrame(list(zip(simtyp, power2, celltemp2, rear2, front2,\n",
    "                           power4, celltemp4, rear4, front4,\n",
    "                           power8, celltemp8, front8,\n",
    "                            power9, celltemp9, rear9, front9, dni, dhi, alb)),\n",
    "       columns = ['Sim', 'Power2' , 'CellTemp2', 'Rear2', 'Front2',\n",
    "                 'Power4' , 'CellTemp4', 'Rear4', 'Front4',\n",
    "                 'Power8' , 'CellTemp8', 'Front8',\n",
    "                 'Power9' , 'CellTemp9', 'Rear9', 'Front9', 'DNI', 'DHI', 'Alb'])\n",
    "\n",
    "res = res[0:8760]\n",
    "res['index'] = res.index\n",
    "res['Power2']= res['Power2']/system_capacity2 # normalizing by the system_capacity\n",
    "res['Power4']= res['Power4']/system_capacity4 # normalizing by the system_capacity\n",
    "res['Power8']= res['Power8']/system_capacity8 # normalizing by the system_capacity\n",
    "res['Power9']= res['Power9']/system_capacity9 # normalizing by the system_capacity\n",
    "res['datetimes'] = datelist\n",
    "res['Year'] = years\n",
    "res['Month'] = months\n",
    "res['Hour'] = hours\n",
    "\n",
    "#    res.index = timestamps\n",
    "res.to_pickle('Results\\Sim_'+orga.loc[ii]['Sim']+'.pkl')\n",
    "dfAll = pd.concat([dfAll, res], ignore_index=True, axis=0)\n",
    "\n",
    "dfAll.to_pickle('Results_pysam.pkl')\n"
   ]
  }
 ],
 "metadata": {
  "kernelspec": {
   "display_name": "pySAM",
   "language": "python",
   "name": "pysam"
  },
  "language_info": {
   "codemirror_mode": {
    "name": "ipython",
    "version": 3
   },
   "file_extension": ".py",
   "mimetype": "text/x-python",
   "name": "python",
   "nbconvert_exporter": "python",
   "pygments_lexer": "ipython3",
   "version": "3.9.13"
  }
 },
 "nbformat": 4,
 "nbformat_minor": 5
}
